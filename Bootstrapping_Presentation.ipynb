{
 "cells": [
  {
   "cell_type": "markdown",
   "id": "2751dab5-0689-470c-80b9-5b88eb575089",
   "metadata": {},
   "source": [
    "# Bootstrapping\n",
    "\n",
    "Lucas De Oliveira, Kooha Kwon, Melvin Vellera"
   ]
  },
  {
   "cell_type": "code",
   "execution_count": 3,
   "id": "27b9cdc7-a86a-4ac7-be9e-1e7b9510aa72",
   "metadata": {},
   "outputs": [],
   "source": [
    "import numpy as np\n",
    "import pandas as pd\n",
    "from collections import Counter\n",
    "import matplotlib.pyplot as plt\n",
    "from scipy.stats import t\n",
    "import random\n",
    "import statsmodels.formula.api as smf\n",
    "\n",
    "# Round floats to 2 decimals\n",
    "pd.options.display.float_format = \"{:,.2f}\".format"
   ]
  },
  {
   "cell_type": "markdown",
   "id": "8ba62b52-b1f3-440c-960b-5e426324055c",
   "metadata": {},
   "source": [
    "## Quick Recap\n",
    "\n",
    "Bootstrapping is a technique of **iterative resampling with replacement** to make inferences about the general population without conducting more experiments.\n",
    "\n",
    "Say we ran an experiment and collected the following results:"
   ]
  },
  {
   "cell_type": "code",
   "execution_count": 17,
   "id": "a989e6a6-c7b5-4980-83a8-077b58b42b74",
   "metadata": {},
   "outputs": [
    {
     "data": {
      "image/png": "[encoded data removed]",
      "text/plain": [
       "<Figure size 720x72 with 1 Axes>"
      ]
     },
     "metadata": {
      "needs_background": "light"
     },
     "output_type": "display_data"
    }
   ],
   "source": [
    "# Experimental sample\n",
    "exp_sample = [-2, -1.5, 0, 0.5, 1, 1.2, 1.5, 3]\n",
    "\n",
    "# Plot\n",
    "fig, ax = plt.subplots(figsize=(10, 1))\n",
    "ax.hlines(y=0.0, xmax=4.0, xmin=-4.0, color='grey')\n",
    "ax.scatter(exp_sample, [0]*len(exp_sample), s=100)\n",
    "\n",
    "ax.set_yticks([])\n",
    "\n",
    "ax.spines['top'].set_visible(False)\n",
    "ax.spines['bottom'].set_visible(False)\n",
    "ax.spines['left'].set_visible(False)\n",
    "ax.spines['right'].set_visible(False)\n",
    "\n",
    "ax.vlines(x=np.mean(exp_sample), ymin=-0.7, ymax=0.7, color='red')\n",
    "ax.annotate(f'{np.mean(exp_sample):.2f} (Sample Mean)', \n",
    "            (np.mean(exp_sample)-0.1, 0.75), \n",
    "            annotation_clip=False, \n",
    "            size=12)\n",
    "\n",
    "plt.tight_layout()\n",
    "plt.show()"
   ]
  },
  {
   "cell_type": "markdown",
   "id": "c1214bf2-461a-484a-b8b9-d6a065f12275",
   "metadata": {},
   "source": [
    "Let's see what bootstrapped samples look like (re-run code cell to see variability of samples)..."
   ]
  },
  {
   "cell_type": "code",
   "execution_count": 12,
   "id": "92fe0a31-39ed-4a53-bfac-567a7b8370d9",
   "metadata": {},
   "outputs": [
    {
     "data": {
      "image/png": "[encoded data removed]",
      "text/plain": [
       "<Figure size 720x360 with 1 Axes>"
      ]
     },
     "metadata": {
      "needs_background": "light"
     },
     "output_type": "display_data"
    }
   ],
   "source": [
    "# Get bootstrapped sample with counts\n",
    "inds = np.random.randint(0, 8, 8)\n",
    "strap = [exp_sample[j] for j in inds]\n",
    "val_count = Counter(strap)\n",
    "\n",
    "bootstrap = []\n",
    "counts = []\n",
    "for val, count in val_count.items():\n",
    "    k = 1\n",
    "    while k <= count:\n",
    "        bootstrap.append(val)\n",
    "        counts.append(k)\n",
    "        k += 1\n",
    "\n",
    "\n",
    "# Plot\n",
    "fig, ax = plt.subplots(figsize=(10, 5))\n",
    "\n",
    "ax.hlines(y=1.0, xmax=4.0, xmin=-4.0, color='grey')\n",
    "ax.scatter(bootstrap, counts, s=100, color='red', alpha=.5)\n",
    "\n",
    "ax.set_yticks([])\n",
    "\n",
    "ax.spines['top'].set_visible(False)\n",
    "ax.spines['bottom'].set_visible(False)\n",
    "ax.spines['left'].set_visible(False)\n",
    "ax.spines['right'].set_visible(False)\n",
    "\n",
    "ax.vlines(x=np.mean(bootstrap), ymin=0.0, ymax=2.0, color='red')\n",
    "\n",
    "plt.ylim([-1, 5])\n",
    "plt.show()"
   ]
  },
  {
   "cell_type": "markdown",
   "id": "3b6e409b-8d78-4b8f-9873-9216ac397747",
   "metadata": {},
   "source": [
    "Finally, we can analyze the summary statistic(s) for our bootstrapped samples:"
   ]
  },
  {
   "cell_type": "code",
   "execution_count": 13,
   "id": "ec6bc514-8865-483b-a45b-d0f44ef489cd",
   "metadata": {},
   "outputs": [
    {
     "data": {
      "image/png": "[encoded data removed]",
      "text/plain": [
       "<Figure size 720x576 with 1 Axes>"
      ]
     },
     "metadata": {
      "needs_background": "light"
     },
     "output_type": "display_data"
    }
   ],
   "source": [
    "# Bootstrap 10,000 samples\n",
    "means = []\n",
    "\n",
    "for i in range(10_000):\n",
    "    inds = np.random.randint(0, 8, 8)\n",
    "    strap = [exp_sample[j] for j in inds]\n",
    "    means.append(np.mean(strap))\n",
    "\n",
    "# Plot\n",
    "fig, ax = plt.subplots(figsize=(10, 8))\n",
    "\n",
    "ax.hist(means, alpha=.5, edgecolor='grey')\n",
    "ax.vlines(x=np.mean(means), ymin=0, ymax=2700, color='red')\n",
    "ax.annotate(f'{np.mean(means):.2f} (Mean)', (np.mean(means), 2700))\n",
    "\n",
    "ax.spines['top'].set_visible(False)\n",
    "ax.spines['right'].set_visible(False)\n",
    "\n",
    "ax.set_title('Distribution of bootstrapped sample means', size=16)\n",
    "\n",
    "plt.show()"
   ]
  },
  {
   "cell_type": "markdown",
   "id": "af152acf-ca30-4648-b3de-3e1414548845",
   "metadata": {},
   "source": [
    "## Real Data Example: Body Fat Percentage\n"
   ]
  },
  {
   "cell_type": "code",
   "execution_count": 4,
   "id": "ad74a6c2-a6c5-4fb9-9fb2-e0c78b7bd8e7",
   "metadata": {},
   "outputs": [
    {
     "data": {
      "text/html": [
       "<div>\n",
       "<style scoped>\n",
       "    .dataframe tbody tr th:only-of-type {\n",
       "        vertical-align: middle;\n",
       "    }\n",
       "\n",
       "    .dataframe tbody tr th {\n",
       "        vertical-align: top;\n",
       "    }\n",
       "\n",
       "    .dataframe thead th {\n",
       "        text-align: right;\n",
       "    }\n",
       "</style>\n",
       "<table border=\"1\" class=\"dataframe\">\n",
       "  <thead>\n",
       "    <tr style=\"text-align: right;\">\n",
       "      <th></th>\n",
       "      <th>IDNO</th>\n",
       "      <th>BODYFAT</th>\n",
       "      <th>DENSITY</th>\n",
       "      <th>AGE</th>\n",
       "      <th>WEIGHT</th>\n",
       "      <th>HEIGHT</th>\n",
       "      <th>NECK</th>\n",
       "      <th>CHEST</th>\n",
       "      <th>ABDOMEN</th>\n",
       "      <th>HIP</th>\n",
       "      <th>THIGH</th>\n",
       "      <th>KNEE</th>\n",
       "      <th>ANKLE</th>\n",
       "      <th>BICEPS</th>\n",
       "      <th>FOREARM</th>\n",
       "      <th>WRIST</th>\n",
       "    </tr>\n",
       "  </thead>\n",
       "  <tbody>\n",
       "    <tr>\n",
       "      <th>0</th>\n",
       "      <td>1</td>\n",
       "      <td>12.60</td>\n",
       "      <td>1.07</td>\n",
       "      <td>23</td>\n",
       "      <td>154.25</td>\n",
       "      <td>67.75</td>\n",
       "      <td>36.20</td>\n",
       "      <td>93.10</td>\n",
       "      <td>85.20</td>\n",
       "      <td>94.50</td>\n",
       "      <td>59.00</td>\n",
       "      <td>37.30</td>\n",
       "      <td>21.90</td>\n",
       "      <td>32.00</td>\n",
       "      <td>27.40</td>\n",
       "      <td>17.10</td>\n",
       "    </tr>\n",
       "    <tr>\n",
       "      <th>1</th>\n",
       "      <td>2</td>\n",
       "      <td>6.90</td>\n",
       "      <td>1.09</td>\n",
       "      <td>22</td>\n",
       "      <td>173.25</td>\n",
       "      <td>72.25</td>\n",
       "      <td>38.50</td>\n",
       "      <td>93.60</td>\n",
       "      <td>83.00</td>\n",
       "      <td>98.70</td>\n",
       "      <td>58.70</td>\n",
       "      <td>37.30</td>\n",
       "      <td>23.40</td>\n",
       "      <td>30.50</td>\n",
       "      <td>28.90</td>\n",
       "      <td>18.20</td>\n",
       "    </tr>\n",
       "    <tr>\n",
       "      <th>2</th>\n",
       "      <td>3</td>\n",
       "      <td>24.60</td>\n",
       "      <td>1.04</td>\n",
       "      <td>22</td>\n",
       "      <td>154.00</td>\n",
       "      <td>66.25</td>\n",
       "      <td>34.00</td>\n",
       "      <td>95.80</td>\n",
       "      <td>87.90</td>\n",
       "      <td>99.20</td>\n",
       "      <td>59.60</td>\n",
       "      <td>38.90</td>\n",
       "      <td>24.00</td>\n",
       "      <td>28.80</td>\n",
       "      <td>25.20</td>\n",
       "      <td>16.60</td>\n",
       "    </tr>\n",
       "    <tr>\n",
       "      <th>3</th>\n",
       "      <td>4</td>\n",
       "      <td>10.90</td>\n",
       "      <td>1.08</td>\n",
       "      <td>26</td>\n",
       "      <td>184.75</td>\n",
       "      <td>72.25</td>\n",
       "      <td>37.40</td>\n",
       "      <td>101.80</td>\n",
       "      <td>86.40</td>\n",
       "      <td>101.20</td>\n",
       "      <td>60.10</td>\n",
       "      <td>37.30</td>\n",
       "      <td>22.80</td>\n",
       "      <td>32.40</td>\n",
       "      <td>29.40</td>\n",
       "      <td>18.20</td>\n",
       "    </tr>\n",
       "    <tr>\n",
       "      <th>4</th>\n",
       "      <td>5</td>\n",
       "      <td>27.80</td>\n",
       "      <td>1.03</td>\n",
       "      <td>24</td>\n",
       "      <td>184.25</td>\n",
       "      <td>71.25</td>\n",
       "      <td>34.40</td>\n",
       "      <td>97.30</td>\n",
       "      <td>100.00</td>\n",
       "      <td>101.90</td>\n",
       "      <td>63.20</td>\n",
       "      <td>42.20</td>\n",
       "      <td>24.00</td>\n",
       "      <td>32.20</td>\n",
       "      <td>27.70</td>\n",
       "      <td>17.70</td>\n",
       "    </tr>\n",
       "  </tbody>\n",
       "</table>\n",
       "</div>"
      ],
      "text/plain": [
       "   IDNO  BODYFAT  DENSITY  AGE  WEIGHT  HEIGHT  NECK  CHEST  ABDOMEN    HIP  \\\n",
       "0     1    12.60     1.07   23  154.25   67.75 36.20  93.10    85.20  94.50   \n",
       "1     2     6.90     1.09   22  173.25   72.25 38.50  93.60    83.00  98.70   \n",
       "2     3    24.60     1.04   22  154.00   66.25 34.00  95.80    87.90  99.20   \n",
       "3     4    10.90     1.08   26  184.75   72.25 37.40 101.80    86.40 101.20   \n",
       "4     5    27.80     1.03   24  184.25   71.25 34.40  97.30   100.00 101.90   \n",
       "\n",
       "   THIGH  KNEE  ANKLE  BICEPS  FOREARM  WRIST  \n",
       "0  59.00 37.30  21.90   32.00    27.40  17.10  \n",
       "1  58.70 37.30  23.40   30.50    28.90  18.20  \n",
       "2  59.60 38.90  24.00   28.80    25.20  16.60  \n",
       "3  60.10 37.30  22.80   32.40    29.40  18.20  \n",
       "4  63.20 42.20  24.00   32.20    27.70  17.70  "
      ]
     },
     "execution_count": 4,
     "metadata": {},
     "output_type": "execute_result"
    }
   ],
   "source": [
    "# Load data\n",
    "bfp = pd.read_csv('BodyFatPercentage.csv')\n",
    "bfp.head()"
   ]
  },
  {
   "cell_type": "markdown",
   "id": "8299a462-44fa-49b7-b074-969188df1185",
   "metadata": {},
   "source": [
    "### Let's Take A Look Into Population Data"
   ]
  },
  {
   "cell_type": "code",
   "execution_count": 6,
   "id": "3dd93cac-c400-422e-a96d-6279e7605f71",
   "metadata": {},
   "outputs": [
    {
     "data": {
      "text/html": [
       "<div>\n",
       "<style scoped>\n",
       "    .dataframe tbody tr th:only-of-type {\n",
       "        vertical-align: middle;\n",
       "    }\n",
       "\n",
       "    .dataframe tbody tr th {\n",
       "        vertical-align: top;\n",
       "    }\n",
       "\n",
       "    .dataframe thead th {\n",
       "        text-align: right;\n",
       "    }\n",
       "</style>\n",
       "<table border=\"1\" class=\"dataframe\">\n",
       "  <thead>\n",
       "    <tr style=\"text-align: right;\">\n",
       "      <th></th>\n",
       "      <th>Methods</th>\n",
       "      <th>Size</th>\n",
       "      <th>Mean</th>\n",
       "      <th>95% CI Lower</th>\n",
       "      <th>95% CI Upper</th>\n",
       "      <th>Range</th>\n",
       "    </tr>\n",
       "  </thead>\n",
       "  <tbody>\n",
       "    <tr>\n",
       "      <th>0</th>\n",
       "      <td>Population</td>\n",
       "      <td>252</td>\n",
       "      <td>18.94</td>\n",
       "      <td>None</td>\n",
       "      <td>None</td>\n",
       "      <td>None</td>\n",
       "    </tr>\n",
       "  </tbody>\n",
       "</table>\n",
       "</div>"
      ],
      "text/plain": [
       "      Methods  Size  Mean 95% CI Lower 95% CI Upper Range\n",
       "0  Population   252 18.94         None         None  None"
      ]
     },
     "execution_count": 6,
     "metadata": {},
     "output_type": "execute_result"
    }
   ],
   "source": [
    "bf_mean = bfp['BODYFAT'].mean()\n",
    "pop_n = len(bfp)\n",
    "\n",
    "summary = pd.DataFrame([['Population', pop_n, bf_mean, None, None, None]],\n",
    "                       columns=['Methods', 'Size', 'Mean',\n",
    "                                '95% CI Lower', '95% CI Upper', 'Range'])\n",
    "summary"
   ]
  },
  {
   "cell_type": "code",
   "execution_count": 7,
   "id": "832e06c0",
   "metadata": {},
   "outputs": [
    {
     "data": {
      "image/png": "[encoded data removed]",
      "text/plain": [
       "<Figure size 864x432 with 1 Axes>"
      ]
     },
     "metadata": {
      "needs_background": "light"
     },
     "output_type": "display_data"
    }
   ],
   "source": [
    "# Population Histogram\n",
    "fig, ax = plt.subplots(figsize=(12, 6))\n",
    "\n",
    "n, bins, patches = ax.hist(bfp['BODYFAT'], bins=25, color='#1B6488')\n",
    "for rect in patches:\n",
    "    rect.set_linewidth(.5)\n",
    "    rect.set_edgecolor('grey')\n",
    "\n",
    "ax.set_title('Histogram of BODYFAT Population Distribution')\n",
    "\n",
    "ax.spines['top'].set_visible(False)\n",
    "ax.spines['right'].set_visible(False)\n",
    "ax.spines['left'].set_linewidth(.5)\n",
    "ax.spines['bottom'].set_linewidth(.5)\n",
    "\n",
    "ax.vlines(x=bf_mean, ymin=0, ymax=25, color='red')\n",
    "ax.annotate(f'{bf_mean:.2f}% (Mean)', (bf_mean+0.2, 25), color='r')\n",
    "\n",
    "plt.show()"
   ]
  },
  {
   "cell_type": "markdown",
   "id": "a52c99ff",
   "metadata": {},
   "source": [
    "### Now, lets say that we surveyed 10 people and we had to draw conclusions about the population distribution\n"
   ]
  },
  {
   "cell_type": "code",
   "execution_count": 8,
   "id": "1ad313ff",
   "metadata": {},
   "outputs": [
    {
     "data": {
      "text/plain": [
       "72     9.10\n",
       "75    18.30\n",
       "54     4.90\n",
       "244   28.10\n",
       "52     8.70\n",
       "116   19.80\n",
       "245   15.30\n",
       "124   14.00\n",
       "163   15.20\n",
       "99    21.70\n",
       "Name: BODYFAT, dtype: float64"
      ]
     },
     "execution_count": 8,
     "metadata": {},
     "output_type": "execute_result"
    }
   ],
   "source": [
    "# Randomly Pull 10 Rows Using Random.Sample\n",
    "samp_n = 10\n",
    "sample_bfp = bfp.loc[random.sample(range(252), samp_n)]\n",
    "sample_bfp['BODYFAT']"
   ]
  },
  {
   "cell_type": "markdown",
   "id": "f15bf47e",
   "metadata": {},
   "source": [
    "### Traditional Statistical CI"
   ]
  },
  {
   "cell_type": "code",
   "execution_count": 9,
   "id": "ebdc7994",
   "metadata": {},
   "outputs": [
    {
     "data": {
      "text/html": [
       "<div>\n",
       "<style scoped>\n",
       "    .dataframe tbody tr th:only-of-type {\n",
       "        vertical-align: middle;\n",
       "    }\n",
       "\n",
       "    .dataframe tbody tr th {\n",
       "        vertical-align: top;\n",
       "    }\n",
       "\n",
       "    .dataframe thead th {\n",
       "        text-align: right;\n",
       "    }\n",
       "</style>\n",
       "<table border=\"1\" class=\"dataframe\">\n",
       "  <thead>\n",
       "    <tr style=\"text-align: right;\">\n",
       "      <th></th>\n",
       "      <th>Methods</th>\n",
       "      <th>Size</th>\n",
       "      <th>Mean</th>\n",
       "      <th>95% CI Lower</th>\n",
       "      <th>95% CI Upper</th>\n",
       "      <th>Range</th>\n",
       "    </tr>\n",
       "  </thead>\n",
       "  <tbody>\n",
       "    <tr>\n",
       "      <th>0</th>\n",
       "      <td>Population</td>\n",
       "      <td>252</td>\n",
       "      <td>18.94</td>\n",
       "      <td>None</td>\n",
       "      <td>None</td>\n",
       "      <td>None</td>\n",
       "    </tr>\n",
       "    <tr>\n",
       "      <th>0</th>\n",
       "      <td>Traditional</td>\n",
       "      <td>10</td>\n",
       "      <td>15.51</td>\n",
       "      <td>10.59</td>\n",
       "      <td>20.43</td>\n",
       "      <td>9.84</td>\n",
       "    </tr>\n",
       "  </tbody>\n",
       "</table>\n",
       "</div>"
      ],
      "text/plain": [
       "       Methods  Size  Mean 95% CI Lower 95% CI Upper Range\n",
       "0   Population   252 18.94         None         None  None\n",
       "0  Traditional    10 15.51        10.59        20.43  9.84"
      ]
     },
     "execution_count": 9,
     "metadata": {},
     "output_type": "execute_result"
    }
   ],
   "source": [
    "s = np.std(sample_bfp['BODYFAT'], ddof=1)\n",
    "sample_mean = sample_bfp['BODYFAT'].mean()\n",
    "t_stat = t.ppf(1-0.05/2, samp_n-1)\n",
    "standard_error = (s / np.sqrt(samp_n))\n",
    "\n",
    "stat_ci = [sample_mean - t_stat * standard_error, sample_mean\n",
    "           + t_stat * standard_error]\n",
    "\n",
    "traditional = pd.DataFrame(\n",
    "    [['Traditional', samp_n, sample_mean, stat_ci[0],\n",
    "      stat_ci[1], stat_ci[1] - stat_ci[0]]],\n",
    "    columns=['Methods', 'Size', 'Mean', \n",
    "             '95% CI Lower', '95% CI Upper', 'Range'])\n",
    "\n",
    "summary = summary.append(traditional)\n",
    "summary"
   ]
  },
  {
   "cell_type": "markdown",
   "id": "f847d24d",
   "metadata": {},
   "source": [
    "### Bootstrapping Statistical CI\n",
    "\n",
    "1. Resample the sample with replacement\n",
    "2. Calculate and collect the resample mean\n",
    "3. Repeat Steps 1 - 3\n",
    "4. Build Histogram\n",
    "5. Build CI using the Histogram"
   ]
  },
  {
   "cell_type": "code",
   "execution_count": 10,
   "id": "e2c76927-6317-4ffa-bbbc-ea941c3a4ad7",
   "metadata": {},
   "outputs": [
    {
     "data": {
      "image/png": "[encoded data removed]",
      "text/plain": [
       "<Figure size 720x576 with 1 Axes>"
      ]
     },
     "metadata": {
      "needs_background": "light"
     },
     "output_type": "display_data"
    }
   ],
   "source": [
    "# Bootstrap\n",
    "resample_means = []\n",
    "\n",
    "for i in range(10_000):  # Step 3\n",
    "    inds = np.random.randint(0, samp_n-1, samp_n-1)  # Step 1\n",
    "    mean = sample_bfp['BODYFAT'].iloc[inds].mean()  # Step 2\n",
    "    resample_means.append(mean)\n",
    "\n",
    "\n",
    "boot_mean = np.mean(resample_means)\n",
    "boot_ci = [np.quantile(resample_means, 0.025),\n",
    "           np.quantile(resample_means, 0.975)]\n",
    "\n",
    "# Plot\n",
    "fig, ax = plt.subplots(figsize=(10, 8))\n",
    "\n",
    "ax.hist(resample_means, alpha=0.5, edgecolor='grey')\n",
    "ax.vlines(x=boot_mean, ymin=0, ymax=3000, color='red')\n",
    "ax.vlines(x=boot_ci[0], ymin=0, ymax=1000, color='red')\n",
    "ax.vlines(x=boot_ci[1], ymin=0, ymax=1000, color='red')\n",
    "ax.vlines(x=boot_mean, ymin=0, ymax=3000, color='red')\n",
    "\n",
    "ax.annotate(f'{boot_mean:.2f} (Mean)', (boot_mean-0.25, 3050))\n",
    "ax.annotate(f'{boot_ci[0]:.2f} (2.5th)', (boot_ci[0]-0.25, 1050))\n",
    "ax.annotate(f'{boot_ci[1]:.2f} (97.5th)', (boot_ci[1]-0.25, 1050))\n",
    "\n",
    "ax.spines['top'].set_visible(False)\n",
    "ax.spines['right'].set_visible(False)\n",
    "\n",
    "ax.set_title('Distribution of bootstrapped sample means', size=16)\n",
    "\n",
    "plt.show()"
   ]
  },
  {
   "cell_type": "code",
   "execution_count": 11,
   "id": "ad1f1b05",
   "metadata": {},
   "outputs": [
    {
     "data": {
      "text/html": [
       "<div>\n",
       "<style scoped>\n",
       "    .dataframe tbody tr th:only-of-type {\n",
       "        vertical-align: middle;\n",
       "    }\n",
       "\n",
       "    .dataframe tbody tr th {\n",
       "        vertical-align: top;\n",
       "    }\n",
       "\n",
       "    .dataframe thead th {\n",
       "        text-align: right;\n",
       "    }\n",
       "</style>\n",
       "<table border=\"1\" class=\"dataframe\">\n",
       "  <thead>\n",
       "    <tr style=\"text-align: right;\">\n",
       "      <th></th>\n",
       "      <th>Methods</th>\n",
       "      <th>Size</th>\n",
       "      <th>Mean</th>\n",
       "      <th>95% CI Lower</th>\n",
       "      <th>95% CI Upper</th>\n",
       "      <th>Range</th>\n",
       "    </tr>\n",
       "  </thead>\n",
       "  <tbody>\n",
       "    <tr>\n",
       "      <th>0</th>\n",
       "      <td>Population</td>\n",
       "      <td>252</td>\n",
       "      <td>18.94</td>\n",
       "      <td>None</td>\n",
       "      <td>None</td>\n",
       "      <td>None</td>\n",
       "    </tr>\n",
       "    <tr>\n",
       "      <th>0</th>\n",
       "      <td>Traditional</td>\n",
       "      <td>10</td>\n",
       "      <td>15.51</td>\n",
       "      <td>10.59</td>\n",
       "      <td>20.43</td>\n",
       "      <td>9.84</td>\n",
       "    </tr>\n",
       "    <tr>\n",
       "      <th>0</th>\n",
       "      <td>Bootstrap</td>\n",
       "      <td>10</td>\n",
       "      <td>14.81</td>\n",
       "      <td>10.77</td>\n",
       "      <td>19.17</td>\n",
       "      <td>8.40</td>\n",
       "    </tr>\n",
       "  </tbody>\n",
       "</table>\n",
       "</div>"
      ],
      "text/plain": [
       "       Methods  Size  Mean 95% CI Lower 95% CI Upper Range\n",
       "0   Population   252 18.94         None         None  None\n",
       "0  Traditional    10 15.51        10.59        20.43  9.84\n",
       "0    Bootstrap    10 14.81        10.77        19.17  8.40"
      ]
     },
     "execution_count": 11,
     "metadata": {},
     "output_type": "execute_result"
    }
   ],
   "source": [
    "bootstrap = pd.DataFrame(\n",
    "    [['Bootstrap', samp_n, boot_mean,\n",
    "      boot_ci[0], boot_ci[1], boot_ci[1] - boot_ci[0]]],\n",
    "    columns=['Methods', 'Size', 'Mean', \n",
    "             '95% CI Lower', '95% CI Upper', 'Range'])\n",
    "\n",
    "summary = summary.append(bootstrap)\n",
    "summary"
   ]
  },
  {
   "cell_type": "markdown",
   "id": "24b92f52",
   "metadata": {},
   "source": [
    "### What if you have a statistic for which you do not know the traditional/parametric statistical calculation? \n",
    "Let's consider the Adjusted R-squared statistic:"
   ]
  },
  {
   "cell_type": "code",
   "execution_count": 50,
   "id": "f3622ceb",
   "metadata": {},
   "outputs": [
    {
     "name": "stdout",
     "output_type": "stream",
     "text": [
      "Population R2: 0.71\n"
     ]
    }
   ],
   "source": [
    "# Fit model for entire dataset and get population R2\n",
    "model = smf.ols('BODYFAT ~ ABDOMEN + WRIST + ANKLE + AGE', data=bfp).fit()\n",
    "pop_adj_rsquared = model.rsquared_adj\n",
    "print(f'Population R2: {pop_adj_rsquared:.2f}')"
   ]
  },
  {
   "cell_type": "code",
   "execution_count": 51,
   "id": "d92dc375",
   "metadata": {},
   "outputs": [
    {
     "name": "stdout",
     "output_type": "stream",
     "text": [
      "Sample R2: 0.74\n"
     ]
    }
   ],
   "source": [
    "# Fit model for a sample of the population and get sample R2\n",
    "pop_n = len(bfp)\n",
    "samp_n = 30\n",
    "sample_bfp = bfp.loc[random.sample(range(pop_n), samp_n)]\n",
    "sample_model = smf.ols('BODYFAT ~ ABDOMEN + WRIST + ANKLE + AGE',\n",
    "                       data=sample_bfp).fit()\n",
    "samp_adj_rsquared = sample_model.rsquared_adj\n",
    "print(f'Sample R2: {samp_adj_rsquared:.2f}')"
   ]
  },
  {
   "cell_type": "code",
   "execution_count": 52,
   "id": "8a147365",
   "metadata": {},
   "outputs": [],
   "source": [
    "# Do bootstrapping \n",
    "adj_rsquareds = []\n",
    "for i in range(1_000):                                            # Iterate a 1000 times\n",
    "    inds = np.random.randint(0, samp_n-1, samp_n-1)               # Random sampling with replacement\n",
    "    model = smf.ols('BODYFAT ~ ABDOMEN + WRIST + ANKLE + AGE',    # Fit the model!\n",
    "                    data=sample_bfp.iloc[inds]).fit()             \n",
    "    rsq_adj = model.rsquared_adj                                  # Get R2\n",
    "    adj_rsquareds.append(rsq_adj)                                 # Store R2"
   ]
  },
  {
   "cell_type": "code",
   "execution_count": 59,
   "id": "25ee0f3f",
   "metadata": {},
   "outputs": [
    {
     "data": {
      "image/png": "[encoded data removed]",
      "text/plain": [
       "<Figure size 720x576 with 1 Axes>"
      ]
     },
     "metadata": {
      "needs_background": "light"
     },
     "output_type": "display_data"
    }
   ],
   "source": [
    "# Plot Histogram / Sampling Distribution\n",
    "boot_rsq_adj_mean = np.mean(adj_rsquareds)\n",
    "boot_rsq_adj_ci = [np.quantile(adj_rsquareds, 0.025),\n",
    "                   np.quantile(adj_rsquareds, 0.975)]\n",
    "\n",
    "fig, ax = plt.subplots(figsize=(10, 8))\n",
    "\n",
    "ax.hist(adj_rsquareds, alpha=.5, edgecolor='grey')\n",
    "ax.vlines(x=boot_rsq_adj_mean, ymin=0, ymax=300, color='red')\n",
    "ax.vlines(x=boot_rsq_adj_ci[0], ymin=0, ymax=80, color='red')\n",
    "ax.vlines(x=boot_rsq_adj_ci[1], ymin=0, ymax=80, color='red')\n",
    "ax.vlines(x=boot_rsq_adj_mean, ymin=0, ymax=280, color='red')\n",
    "\n",
    "ax.annotate(f'{boot_rsq_adj_mean:.2f} (Mean)', (boot_rsq_adj_mean-0.007, 305))\n",
    "ax.annotate(f'{boot_rsq_adj_ci[0]:.2f} (2.5th)',\n",
    "            (boot_rsq_adj_ci[0]-0.007, 85))\n",
    "ax.annotate(f'{boot_rsq_adj_ci[1]:.2f} (97.5th)',\n",
    "            (boot_rsq_adj_ci[1]-0.007, 85))\n",
    "\n",
    "ax.spines['top'].set_visible(False)\n",
    "ax.spines['right'].set_visible(False)\n",
    "\n",
    "ax.set_title('Distribution of Bootstrapped R-squareds', size=16)\n",
    "\n",
    "plt.show()"
   ]
  },
  {
   "cell_type": "code",
   "execution_count": 61,
   "id": "aae33d32",
   "metadata": {},
   "outputs": [
    {
     "name": "stdout",
     "output_type": "stream",
     "text": [
      "Population R2: 0.71\n",
      "Bootstrap Confidence Interval: ['0.59', '0.87']\n"
     ]
    }
   ],
   "source": [
    "print(f'Population R2: {pop_adj_rsquared:.2f}')\n",
    "print(f'Bootstrap Confidence Interval: '\n",
    "      + f'''{[f'{e:.2f}' for e in boot_rsq_adj_ci]}''')"
   ]
  },
  {
   "cell_type": "markdown",
   "id": "c8a190d3",
   "metadata": {},
   "source": [
    "Population Adjusted R-squared is indeed contained in the 95% confidence interval created from the sample!"
   ]
  },
  {
   "cell_type": "markdown",
   "id": "5ae55f66",
   "metadata": {},
   "source": [
    "### Summary\n",
    "1. Bootstrapping work wells for **very small sample sizes**\n",
    "2. For such small sample sizes, it can give more **precise confidence intervals** (i.e. smaller intervals) as compared to standard statistical methods \n",
    "3. Boostrapping can be used for almost ANY statistic! (even for ones that do not have a **normally distributed** sampling distribution, or for ones for which statistical calculations have **not been discovered** yet!)\n",
    "\n",
    "**Thank you for your attention!**"
   ]
  }
 ],
 "metadata": {
  "kernelspec": {
   "display_name": "Python 3",
   "language": "python",
   "name": "python3"
  },
  "language_info": {
   "codemirror_mode": {
    "name": "ipython",
    "version": 3
   },
   "file_extension": ".py",
   "mimetype": "text/x-python",
   "name": "python",
   "nbconvert_exporter": "python",
   "pygments_lexer": "ipython3",
   "version": "3.8.8"
  }
 },
 "nbformat": 4,
 "nbformat_minor": 5
}
